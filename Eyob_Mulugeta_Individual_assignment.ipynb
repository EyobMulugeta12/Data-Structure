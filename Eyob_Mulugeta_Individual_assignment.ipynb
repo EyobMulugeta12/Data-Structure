{
 "cells": [
  {
   "cell_type": "code",
   "execution_count": 1,
   "metadata": {},
   "outputs": [],
   "source": [
    "Students = [\n",
    "    {'id': 'DBU1601162', 'name': 'Eyob', 'dept': 'DS', 'cgpa': 3.09},\n",
    "    {'id': 'DBU1601122', 'name': 'Adisu', 'dept': 'DS', 'cgpa': 3.15},\n",
    "    {'id': 'DBU1601515', 'name': 'Abebe', 'dept': 'CS', 'cgpa': 2.74},\n",
    "    {'id': 'DBU1601598', 'name': 'Kaleb', 'dept': 'CS', 'cgpa': 3.10},\n",
    "    {'id': 'DBU1601990', 'name': 'Meron', 'dept': 'CS', 'cgpa': 3.95},\n",
    "    {'id': 'DBU1601254', 'name': 'Haron', 'dept': 'DS', 'cgpa': 3.11},\n",
    "    {'id': 'DBU1601552', 'name': 'Tedros', 'dept': 'CS', 'cgpa': 3.02},\n",
    "    {'id': 'DBU1601629', 'name': 'Sosina', 'dept': 'DS', 'cgpa': 2.58},\n",
    "    {'id': 'DBU1601992', 'name': 'Yonas', 'dept': 'CS', 'cgpa': 3.47},\n",
    "    {'id': 'DBU1601615', 'name': 'Yared', 'dept': 'DS', 'cgpa': 2.67}\n",
    "]"
   ]
  },
  {
   "cell_type": "markdown",
   "metadata": {},
   "source": [
    "# 1. Bubble Sort by ID"
   ]
  },
  {
   "cell_type": "code",
   "execution_count": 2,
   "metadata": {},
   "outputs": [
    {
     "name": "stdout",
     "output_type": "stream",
     "text": [
      "/nSorted by ID (Bubble Sort):\n",
      "{'id': 'DBU1601122', 'name': 'Adisu', 'dept': 'DS', 'cgpa': 3.15}\n",
      "{'id': 'DBU1601162', 'name': 'Eyob', 'dept': 'DS', 'cgpa': 3.09}\n",
      "{'id': 'DBU1601254', 'name': 'Haron', 'dept': 'DS', 'cgpa': 3.11}\n",
      "{'id': 'DBU1601515', 'name': 'Abebe', 'dept': 'CS', 'cgpa': 2.74}\n",
      "{'id': 'DBU1601552', 'name': 'Tedros', 'dept': 'CS', 'cgpa': 3.02}\n",
      "{'id': 'DBU1601598', 'name': 'Kaleb', 'dept': 'CS', 'cgpa': 3.1}\n",
      "{'id': 'DBU1601615', 'name': 'Yared', 'dept': 'DS', 'cgpa': 2.67}\n",
      "{'id': 'DBU1601629', 'name': 'Sosina', 'dept': 'DS', 'cgpa': 2.58}\n",
      "{'id': 'DBU1601990', 'name': 'Meron', 'dept': 'CS', 'cgpa': 3.95}\n",
      "{'id': 'DBU1601992', 'name': 'Yonas', 'dept': 'CS', 'cgpa': 3.47}\n"
     ]
    }
   ],
   "source": [
    "\n",
    "def bubble_sort_by_id(students):\n",
    "    n = len(students)\n",
    "    for i in range(n):\n",
    "        for j in range(0, n - i - 1):\n",
    "            if students[j]['id'] > students[j + 1]['id']:\n",
    "                students[j], students[j + 1] = students[j + 1], students[j]\n",
    "    return students\n",
    "def display_students(title, students):\n",
    "    print(f\"/n{title}\")\n",
    "    for s in students:\n",
    "        print(s)\n",
    "sorted_by_id = bubble_sort_by_id(Students.copy())\n",
    "display_students(\"Sorted by ID (Bubble Sort):\", sorted_by_id)"
   ]
  },
  {
   "cell_type": "markdown",
   "metadata": {},
   "source": [
    "# 2. insertion_sort_by_Alphabetically_name (Descending)"
   ]
  },
  {
   "cell_type": "code",
   "execution_count": 3,
   "metadata": {},
   "outputs": [],
   "source": [
    "\n",
    "def insertion_sort_by_name(students):\n",
    "    for i in range(1, len(students)):\n",
    "        key_student = students[i]\n",
    "        j = i - 1\n",
    "        while j >= 0 and key_student['name'].lower() < students[j]['name'].lower():\n",
    "            students[j + 1] = students[j]\n",
    "            j -= 1\n",
    "        students[j + 1] = key_student\n",
    "    return students"
   ]
  },
  {
   "cell_type": "code",
   "execution_count": 4,
   "metadata": {},
   "outputs": [
    {
     "name": "stdout",
     "output_type": "stream",
     "text": [
      "/nSorted by Alphabetically Name (Insertion Sort):\n",
      "{'id': 'DBU1601515', 'name': 'Abebe', 'dept': 'CS', 'cgpa': 2.74}\n",
      "{'id': 'DBU1601122', 'name': 'Adisu', 'dept': 'DS', 'cgpa': 3.15}\n",
      "{'id': 'DBU1601162', 'name': 'Eyob', 'dept': 'DS', 'cgpa': 3.09}\n",
      "{'id': 'DBU1601254', 'name': 'Haron', 'dept': 'DS', 'cgpa': 3.11}\n",
      "{'id': 'DBU1601598', 'name': 'Kaleb', 'dept': 'CS', 'cgpa': 3.1}\n",
      "{'id': 'DBU1601990', 'name': 'Meron', 'dept': 'CS', 'cgpa': 3.95}\n",
      "{'id': 'DBU1601629', 'name': 'Sosina', 'dept': 'DS', 'cgpa': 2.58}\n",
      "{'id': 'DBU1601552', 'name': 'Tedros', 'dept': 'CS', 'cgpa': 3.02}\n",
      "{'id': 'DBU1601615', 'name': 'Yared', 'dept': 'DS', 'cgpa': 2.67}\n",
      "{'id': 'DBU1601992', 'name': 'Yonas', 'dept': 'CS', 'cgpa': 3.47}\n"
     ]
    }
   ],
   "source": [
    "sorted_by_name = insertion_sort_by_name(Students.copy())\n",
    "display_students(\"Sorted by Alphabetically Name (Insertion Sort):\", sorted_by_name)"
   ]
  },
  {
   "cell_type": "markdown",
   "metadata": {},
   "source": [
    "# 3. Selection Sort by CGPA (Descending)"
   ]
  },
  {
   "cell_type": "code",
   "execution_count": 5,
   "metadata": {},
   "outputs": [],
   "source": [
    "\n",
    "def selection_sort_by_cgpa_desc(students):\n",
    "    n = len(students)\n",
    "    for i in range(n):\n",
    "        max_idx = i\n",
    "        for j in range(i + 1, n):\n",
    "            if students[j]['cgpa'] > students[max_idx]['cgpa']:\n",
    "                max_idx = j\n",
    "        students[i], students[max_idx] = students[max_idx], students[i]\n",
    "    return students"
   ]
  },
  {
   "cell_type": "code",
   "execution_count": 6,
   "metadata": {},
   "outputs": [
    {
     "name": "stdout",
     "output_type": "stream",
     "text": [
      "/nSorted by CGPA Descending order  (Selection Sort):\n",
      "{'id': 'DBU1601990', 'name': 'Meron', 'dept': 'CS', 'cgpa': 3.95}\n",
      "{'id': 'DBU1601992', 'name': 'Yonas', 'dept': 'CS', 'cgpa': 3.47}\n",
      "{'id': 'DBU1601122', 'name': 'Adisu', 'dept': 'DS', 'cgpa': 3.15}\n",
      "{'id': 'DBU1601254', 'name': 'Haron', 'dept': 'DS', 'cgpa': 3.11}\n",
      "{'id': 'DBU1601598', 'name': 'Kaleb', 'dept': 'CS', 'cgpa': 3.1}\n",
      "{'id': 'DBU1601162', 'name': 'Eyob', 'dept': 'DS', 'cgpa': 3.09}\n",
      "{'id': 'DBU1601552', 'name': 'Tedros', 'dept': 'CS', 'cgpa': 3.02}\n",
      "{'id': 'DBU1601515', 'name': 'Abebe', 'dept': 'CS', 'cgpa': 2.74}\n",
      "{'id': 'DBU1601615', 'name': 'Yared', 'dept': 'DS', 'cgpa': 2.67}\n",
      "{'id': 'DBU1601629', 'name': 'Sosina', 'dept': 'DS', 'cgpa': 2.58}\n"
     ]
    }
   ],
   "source": [
    "sorted_by_cgpa = selection_sort_by_cgpa_desc(Students.copy())\n",
    "display_students(\"Sorted by CGPA Descending order  (Selection Sort):\", sorted_by_cgpa)"
   ]
  },
  {
   "cell_type": "markdown",
   "metadata": {},
   "source": [
    "## ANALYSIS OF THE THREE SORTING\n",
    "\n",
    "\n",
    "## Bubble Sort (Sorting by 'id')\n",
    "\n",
    "   -Swaps them if they’re in the wrong id order.\n",
    "\n",
    "  -Compares adjacent student dictionaries by 'id' key.\n",
    "\n",
    "  -Every comparison requires accessing student['id'].\n",
    "\n",
    "Performance:-\n",
    "\n",
    "  Time Complexity: O(n²)\n",
    "  Dictionary Impact: Frequent swapping of complex data structures (entire dicts) adds overhead.\n",
    "  Best Case: If IDs are already sorted → fewer iterations."
   ]
  },
  {
   "cell_type": "markdown",
   "metadata": {},
   "source": [
    "## Insertion Sort (Sorting by 'name')\n",
    "\n",
    "  Relatively fewer swaps, but still involves shifting dictionaries around.\n",
    "\n",
    "  Accessing and comparing student['name'] strings (possibly large text).\n",
    " \n",
    "\n",
    "Performance:-\n",
    "\n",
    "  Time Complexity: O(n²)\n",
    "  Dictionary Impact: Efficient on small.\n",
    "  Stable sort: If two students have the same name, their order remains."
   ]
  },
  {
   "cell_type": "markdown",
   "metadata": {},
   "source": [
    "## Selection Sort (Sorting by 'cgpa', Descending)\n",
    "  Finds the max CGPA in the unsorted part and moves it to the front.\n",
    "\n",
    "  Every iteration involves scanning multiple dictionaries for student['cgpa'].\n",
    "  \n",
    "  Fewer swaps (1 per iteration), but each is a full dictionary swap.\n",
    "\n",
    "Performance:\n",
    "\n",
    "  Time Complexity: O(n²)\n",
    "  Dictionary Impact: High read-access (to 'cgpa') but fewer write operations."
   ]
  },
  {
   "cell_type": "markdown",
   "metadata": {},
   "source": [
    "## Advantage and Disadvantage\n",
    "-Bubble Sort: are easy to understand and simple to implement but are very slow on a large datasets and inefficient due to many swaps.\n",
    "\n",
    "-Insertion Sor: are efficient on small or nearly sorted data and stable sort but like bubble sort have a poor performance on unsorted lists.\n",
    "\n",
    "-Selection sort: are easy to implement but not stable and always does O(n²) comparisons.\n"
   ]
  },
  {
   "cell_type": "markdown",
   "metadata": {},
   "source": [
    "# NAME:- Eyob mulugeta\n",
    "# ID:- 1601162"
   ]
  }
 ],
 "metadata": {
  "kernelspec": {
   "display_name": "base",
   "language": "python",
   "name": "python3"
  },
  "language_info": {
   "codemirror_mode": {
    "name": "ipython",
    "version": 3
   },
   "file_extension": ".py",
   "mimetype": "text/x-python",
   "name": "python",
   "nbconvert_exporter": "python",
   "pygments_lexer": "ipython3",
   "version": "3.12.7"
  }
 },
 "nbformat": 4,
 "nbformat_minor": 2
}
